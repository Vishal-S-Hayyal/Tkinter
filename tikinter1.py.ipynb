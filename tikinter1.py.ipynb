{
 "cells": [
  {
   "cell_type": "code",
   "execution_count": 1,
   "id": "a2503a74",
   "metadata": {},
   "outputs": [],
   "source": [
    "from tkinter import *\n",
    "root = Tk()\n",
    "Lname = StringVar()\n",
    "lname, fname = StringVar(), StringVar()\n",
    "email = StringVar()\n",
    "bday = StringVar()\n",
    "Label(root, text=\"Contact List\", width=25, justify=CENTER).grid(row=0,\n",
    "column=0)\n",
    "contactList = Listbox(root, width=25, height=8).grid(row=1, column=0,\n",
    "rowspan=4)\n",
    "Button(root, text=\"Display Contact\", width=20, height=1,\n",
    "justify=CENTER).grid(row=5, column=0, pady=8)\n",
    "name = Label(root, text=\"Last Name \", width=15, justify=LEFT).grid(row=6,\n",
    "column=0)\n",
    "Entry(root, textvariable=Lname, width=25).grid(row=6, column=1)\n",
    "search = Button(root, text=\"Search\", width=15, justify=CENTER).grid(row=7,column=1, pady=15)\n",
    "Label(root, text=\"New Contact : \", width=25, justify=CENTER).grid(row=0,\n",
    "column=2, padx=8)\n",
    "fn = Label(root, text=\"First Name : \", width=15, justify=LEFT,\n",
    "anchor=\"e\").grid(row=1, column=2, padx=8)\n",
    "Entry(root, textvariable=fname, width=25).grid(row=1, column=3)\n",
    "ln = Label(root, text=\"Last Name : \", width=15, justify=LEFT,\n",
    "\n",
    "anchor=\"e\").grid(row=2, column=2, padx=8)\n",
    "Entry(root, textvariable=lname, width=25).grid(row=2, column=3)\n",
    "phn = Label(root, text=\"Phone # : \", width=15, justify=LEFT,\n",
    "anchor=\"e\").grid(row=3, column=2, padx=8)\n",
    "Entry(root, textvariable=phn, width=25).grid(row=3, column=3)\n",
    "emailEl = Label(root, text=\"Email : \", width=15, justify=LEFT,\n",
    "anchor=\"e\").grid(row=4, column=2, padx=8)\n",
    "Entry(root, textvariable=email, width=25).grid(row=4, column=3)\n",
    "bdayEl = Label(root, text=\"Birthday: \", width=15, justify=LEFT,\n",
    "anchor=\"e\").grid(row=5, column=2, padx=8)\n",
    "Entry(root, textvariable=bday, width=25).grid(row=5, column=3)\n",
    "Button(root, text=\"Add Contact\", width=15, justify=RIGHT).grid(row=6,\n",
    "column=3, sticky=\"e\")\n",
    "Label(root, text=\"Result:\\nLast, First\\nPhone\").grid(row=8, column=3,\n",
    "sticky=\"sw\")\n",
    "root.mainloop()"
   ]
  },
  {
   "cell_type": "code",
   "execution_count": null,
   "id": "fb8e20f3",
   "metadata": {},
   "outputs": [],
   "source": []
  }
 ],
 "metadata": {
  "kernelspec": {
   "display_name": "Python 3 (ipykernel)",
   "language": "python",
   "name": "python3"
  },
  "language_info": {
   "codemirror_mode": {
    "name": "ipython",
    "version": 3
   },
   "file_extension": ".py",
   "mimetype": "text/x-python",
   "name": "python",
   "nbconvert_exporter": "python",
   "pygments_lexer": "ipython3",
   "version": "3.11.2"
  }
 },
 "nbformat": 4,
 "nbformat_minor": 5
}
